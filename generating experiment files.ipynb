{
 "cells": [
  {
   "cell_type": "code",
   "execution_count": 1,
   "metadata": {
    "collapsed": true
   },
   "outputs": [],
   "source": [
    "# some scripts to auto-generate experiment specification files\n",
    "# we want to auto-generate a directory of files that can be fed into runBatch.sh\n",
    "# uses \"template\" directory to get onAndroid-bin scripts\n",
    "\n",
    "# need to make exp.xml\n",
    "# and then make onAndroid// directory, with separate run_1_gcn.sh script for each node\n",
    "# onAndroid-bin can be copied directly from template\n",
    "\n",
    "# IMPORTANT!\n",
    "# after loading onto the server, need to run:\n",
    "# $ find ./ -name \"*.sh\" -exec chmod +x {} \\;\n",
    "# so that all the bash files are actually executable by the experiment\n",
    "# otherwise, experiment will run empty, with no scripts being executed!"
   ]
  },
  {
   "cell_type": "code",
   "execution_count": 2,
   "metadata": {
    "collapsed": true
   },
   "outputs": [],
   "source": [
    "import os, shutil, stat"
   ]
  },
  {
   "cell_type": "code",
   "execution_count": null,
   "metadata": {
    "collapsed": true
   },
   "outputs": [],
   "source": []
  },
  {
   "cell_type": "code",
   "execution_count": 3,
   "metadata": {
    "collapsed": true
   },
   "outputs": [],
   "source": [
    "def makefiletree(experimentname, numnodes):\n",
    "    '''make file directory for new experiment spec\n",
    "    experimentname is the experiment directory\n",
    "    numnodes is the number of nodes in the experiment\n",
    "    this will fail if a file with this name already exists\n",
    "    returns the path to the directory created'''\n",
    "    \n",
    "    # make top level directory\n",
    "    exppath = os.path.join(r'experiments/', experimentname)\n",
    "    os.makedirs(exppath)\n",
    "    \n",
    "    # make a file for each node, in an onAndroid sub-directory\n",
    "    onAndroidpath = os.path.join(exppath, 'onAndroid')\n",
    "    os.makedirs(onAndroidpath)\n",
    "    \n",
    "    for n in xrange(numnodes):\n",
    "        nodepath = os.path.join(onAndroidpath, 'node' + '{n:03d}'.format(n = n+1))\n",
    "        os.makedirs(nodepath)\n",
    "    \n",
    "    # make onAndroid-bin directory, copied from template file\n",
    "    shutil.copytree(r'experiments/template/onAndroid-bin', os.path.join(exppath, 'onAndroid-bin'))\n",
    "    \n",
    "    return exppath"
   ]
  },
  {
   "cell_type": "code",
   "execution_count": 4,
   "metadata": {
    "collapsed": false
   },
   "outputs": [],
   "source": [
    "def makeexp(exppath, numnodes, startdelay, duration):\n",
    "    '''make exp.xml file for an experiment, assuming makefiletree() has been run already\n",
    "    exppath: path to experiment directory - output from makefiletree()\n",
    "    numnodes: number of nodes in the experiment\n",
    "    startdelay: amount of time to wait before starting experiment (in seconds)\n",
    "    duration: duration of the experiment (in seconds)'''\n",
    "    \n",
    "    # xml header\n",
    "    header = '''<?xml version=\"1.0\" encoding=\"UTF-8\"?>\n",
    "<Exp>\n",
    "  <NodeInfo>\n",
    "'''\n",
    "    \n",
    "    # spec each node\n",
    "    nodes = ''\n",
    "\n",
    "    for n in xrange(numnodes):\n",
    "\n",
    "        name = 'node' + '{n:03d}'.format(n = n+1)\n",
    "        mgmt_ip = '192.168.1.{}'.format(n+1)\n",
    "        interface_ip = '10.1.1.{}'.format(n+1)\n",
    "\n",
    "        newnode = '''    <Node name=\"{}\">\n",
    "      <MgmtNetIP>{}/24</MgmtNetIP>\n",
    "      <MgmtNetBroadcastIP>192.168.1.255</MgmtNetBroadcastIP>\n",
    "      <Interface name=\"wlan0\" ip=\"{}/24\" />\n",
    "    </Node>\n",
    "'''.format(name, mgmt_ip, interface_ip)\n",
    "        \n",
    "        nodes += newnode\n",
    "    \n",
    "    # footer with experiment startdelay and duration\n",
    "\n",
    "    footer = '''  </NodeInfo>\n",
    "  <EmuInfo>\n",
    "    <Emu name=\"controller\">\n",
    "      <MgmtNetIP>192.168.1.201/24</MgmtNetIP>\n",
    "      <MgmtVLAN>None</MgmtVLAN>\n",
    "      <MgmtBridge>br0</MgmtBridge>\n",
    "    </Emu>\n",
    "  </EmuInfo>\n",
    "  <Dirs>\n",
    "    <HarnessLogDir>./log</HarnessLogDir>\n",
    "    <ControllerDataDir>./data</ControllerDataDir>\n",
    "    <ControllerCollectDir>./collect</ControllerCollectDir>\n",
    "    <NodeExpRoot>/sdcard/llcbmen</NodeExpRoot>\n",
    "    <NodeBinDir>/data/llcbmen</NodeBinDir>\n",
    "  </Dirs>\n",
    "  <Collector servername=\"controller\" port=\"12377\" />\n",
    "  <Steps>\n",
    "    <ConfigWithMgmt pause=\"error\" />\n",
    "    <UberLocalStartup beaconerInterval=\"10000\" startWait=\"{}\" duration=\"{}\" pause=\"error\" />\n",
    "  </Steps>\n",
    "</Exp>\n",
    "'''.format(startdelay, duration)\n",
    "    \n",
    "    \n",
    "    # write to file\n",
    "    exp = os.path.join(exppath, 'exp.xml')\n",
    "    \n",
    "    with open(exp, 'wb') as f:\n",
    "        document = header + nodes + footer\n",
    "        f.write(document)"
   ]
  },
  {
   "cell_type": "code",
   "execution_count": 5,
   "metadata": {
    "collapsed": false
   },
   "outputs": [],
   "source": [
    "def makenodescripts(exppath, numnodes, duration, rate, size):\n",
    "    '''make run_1_gcn.sh files for an experiment, assuming makefiletree() has been run already\n",
    "    exppath: path to experiment directory - output from makefiletree()\n",
    "    numnodes: number of nodes in the experiment\n",
    "    duration: duration of the experiment (in seconds)\n",
    "    rate: average rate of poisson process to run, in packets/second\n",
    "    size: size of packets to send, in bytes'''\n",
    "    \n",
    "        \n",
    "    header = \"\"\"#!/system/xbin/bash -login\n",
    "\n",
    "nodeName=$1\n",
    "nodeNum=$2\n",
    "runid=$3\n",
    "expRoot=$4\n",
    "expName=$5\n",
    "basetime=$6\n",
    "\n",
    "dataFile=$expRoot/data/$runid/data/$nodeName/gcn.llg\n",
    "mgenLogFile=$expRoot/data/$runid/data/$nodeName/mgen.log\n",
    "olsrLogFile=$expRoot/data/$runid/data/$nodeName/olsr.log\n",
    "\n",
    "echo '''\n",
    "0.0 LISTEN UDP 5001\n",
    "\"\"\"\n",
    "    \n",
    "    footer = \"\"\"''' > /sdcard/exp.mgen\n",
    "\n",
    "echo \"Starting mgen.\"\n",
    "olsrd -d 0 -i wlan0 > $olsrLogFile\n",
    "sleep 1\n",
    "mgen input /sdcard/exp.mgen > $mgenLogFile\n",
    "sleep 1\n",
    "exit 0\n",
    "\"\"\"\n",
    "    \n",
    "    \n",
    "    # for each node....\n",
    "    \n",
    "    for n in xrange(numnodes):\n",
    "        mgenspec = ''\n",
    "\n",
    "        # declare mgen script\n",
    "        for dest in xrange(numnodes): # send traffic to all other nodes, but not to yourself\n",
    "            if n == dest:\n",
    "                pass\n",
    "            else:\n",
    "                mgenspec += '60.0 ON {} UDP SRC 5001 DST 10.1.1.{}/5001 POISSON [{} {}] INTERFACE wlan0\\n'.format(dest+1, dest+1, rate, size)\n",
    "        \n",
    "        # stop flows\n",
    "        for dest in xrange(numnodes):\n",
    "            if n == dest:\n",
    "                pass\n",
    "            else:\n",
    "                mgenspec += '{}.0 OFF {}\\n'.format(duration, dest+1)\n",
    "    \n",
    "        # write to file\n",
    "        document = header + mgenspec + footer\n",
    "        \n",
    "        nodepath = os.path.join(exppath, 'onAndroid', 'node' + '{n:03d}'.format(n = n+1), 'run_1_gcn.sh')\n",
    "        with open(nodepath, 'wb') as f:\n",
    "            f.write(document)\n",
    "            \n",
    "        # mark run_1_gcn.sh as an executable file - equivalent of chmod +x in linux\n",
    "        executable_by_all = stat.S_IXUSR | stat.S_IXGRP | stat.S_IXOTH\n",
    "        os.chmod(nodepath, os.stat(nodepath).st_mode | executable_by_all)"
   ]
  },
  {
   "cell_type": "code",
   "execution_count": 24,
   "metadata": {
    "collapsed": false
   },
   "outputs": [],
   "source": [
    "# example run\n",
    "\n",
    "experimentname = 'n30_all_calibration_08'         # name of experiment\n",
    "numnodes = 30                                   # number of nodes in experiment\n",
    "startdelay = 30                                # duration of startWait in seconds\n",
    "duration = 300                                 # duration of experiment in seconds\n",
    "rate = 0.8                                       # number of packets to attempt to send per second per destination\n",
    "size = 128                                     # bytes per packet"
   ]
  },
  {
   "cell_type": "code",
   "execution_count": 25,
   "metadata": {
    "collapsed": false
   },
   "outputs": [],
   "source": [
    "exppath = makefiletree(experimentname, numnodes)\n",
    "makeexp(exppath, numnodes, startdelay, duration)\n",
    "makenodescripts(exppath, numnodes, duration, rate, size)"
   ]
  },
  {
   "cell_type": "code",
   "execution_count": null,
   "metadata": {
    "collapsed": false
   },
   "outputs": [],
   "source": []
  },
  {
   "cell_type": "code",
   "execution_count": null,
   "metadata": {
    "collapsed": false
   },
   "outputs": [],
   "source": []
  },
  {
   "cell_type": "code",
   "execution_count": null,
   "metadata": {
    "collapsed": false
   },
   "outputs": [],
   "source": []
  },
  {
   "cell_type": "code",
   "execution_count": null,
   "metadata": {
    "collapsed": false
   },
   "outputs": [],
   "source": []
  },
  {
   "cell_type": "code",
   "execution_count": null,
   "metadata": {
    "collapsed": true
   },
   "outputs": [],
   "source": []
  },
  {
   "cell_type": "code",
   "execution_count": null,
   "metadata": {
    "collapsed": true
   },
   "outputs": [],
   "source": []
  }
 ],
 "metadata": {
  "kernelspec": {
   "display_name": "Python 2",
   "language": "python",
   "name": "python2"
  },
  "language_info": {
   "codemirror_mode": {
    "name": "ipython",
    "version": 2
   },
   "file_extension": ".py",
   "mimetype": "text/x-python",
   "name": "python",
   "nbconvert_exporter": "python",
   "pygments_lexer": "ipython2",
   "version": "2.7.11"
  }
 },
 "nbformat": 4,
 "nbformat_minor": 0
}
