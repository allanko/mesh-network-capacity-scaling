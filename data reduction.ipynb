{
 "cells": [
  {
   "cell_type": "code",
   "execution_count": 1,
   "metadata": {
    "collapsed": true
   },
   "outputs": [],
   "source": [
    "%matplotlib inline\n",
    "import matplotlib.pyplot as plt\n",
    "\n",
    "import glob, os\n",
    "import pandas as pd\n",
    "import datetime"
   ]
  },
  {
   "cell_type": "code",
   "execution_count": 2,
   "metadata": {
    "collapsed": false
   },
   "outputs": [],
   "source": [
    "# defining functions"
   ]
  },
  {
   "cell_type": "code",
   "execution_count": 3,
   "metadata": {
    "collapsed": false
   },
   "outputs": [],
   "source": [
    "def getnodes(collectdir):\n",
    "    '''takes parent directory of log data, looks like r'170221/ota10_saturationtest1_1702211345/'\n",
    "    must end with a slash\n",
    "    returns dictionary where keys = nodes, values = filepaths to those nodes'''\n",
    "    \n",
    "    nodes = glob.glob(collectdir + r'data/n*') # list of filepaths to each node in the test\n",
    "    node_id = [int(n[-3:]) for n in nodes]\n",
    "    \n",
    "    return dict(zip(node_id, nodes))"
   ]
  },
  {
   "cell_type": "code",
   "execution_count": 4,
   "metadata": {
    "collapsed": false
   },
   "outputs": [],
   "source": [
    "def converttime(date, timestring):\n",
    "    '''convert timestamps from mgen.log to datetime object in UTC\n",
    "    date: the day of the experiment (assumes experiment doesn't span multiple days)\n",
    "    timestring: the timestamp string from mgen.log, looks like \"18:46:17.987205\"'''\n",
    "    \n",
    "    # convert timestring to seconds since midnight\n",
    "    h, m, s = [float(n) for n in timestring.split(':')]\n",
    "    sincemidnight = datetime.timedelta(seconds = 3600.*h + 60.*m + s)\n",
    "    \n",
    "    return date + sincemidnight"
   ]
  },
  {
   "cell_type": "code",
   "execution_count": 5,
   "metadata": {
    "collapsed": true
   },
   "outputs": [],
   "source": [
    "def getmgen(nodedict, date):\n",
    "    '''takes a dictionary of node filepaths and a date\n",
    "    nodedict: output of getnodes()\n",
    "    date: date of the experiment\n",
    "    returns a dictionary of pandas dataframes, where\n",
    "    keys = nodes, values = a pandas dataframe representing the mgen log of that node'''\n",
    "    \n",
    "    nodes = sorted(nodedict.keys())\n",
    "    mgen_logs = {}\n",
    "    \n",
    "    for n in nodes:\n",
    "        # read mgen file, if it exists\n",
    "        if not os.path.isfile(nodedict[n] + r'/mgen.log'):\n",
    "            mgen_logs[n] = 'no packets received'\n",
    "            continue\n",
    "        \n",
    "        with open(nodedict[n] + r'/mgen.log', 'r') as f:\n",
    "            lines = [line.strip().split(' ') for line in f if ('RECV' in line) and (len(line.strip().split(' ')) == 10)]\n",
    "        \n",
    "        if lines == []: # if no packets received\n",
    "            mgen_logs[n] = 'no packets received'\n",
    "            \n",
    "        else:\n",
    "            # parse into separate columns\n",
    "            columns = zip(*lines)\n",
    "\n",
    "            receivetime  = columns[0]\n",
    "            protocol = [c[c.find('>') + 1 :] for c in columns[2]]\n",
    "            flow = [int(c[c.find('>') + 1 :]) for c in columns[3]]\n",
    "            seq = [c[c.find('>') + 1 :] for c in columns[4]]\n",
    "            src = [c[c.find('>') + 1 :] for c in columns[5]]\n",
    "            dst = [c[c.find('>') + 1 :] for c in columns[6]]\n",
    "            senttime = [c[c.find('>') + 1 :] for c in columns[7]]\n",
    "            sizeinbytes = [int(c[c.find('>') + 1 :]) for c in columns[8]]\n",
    "\n",
    "            # convert time columns to datetime objects\n",
    "            receivetime = [converttime(date, t) for t in receivetime]\n",
    "            senttime = [converttime(date, t) for t in senttime]\n",
    "\n",
    "            # generate mgen dataframe\n",
    "            mgen_logs[n] = pd.DataFrame(data = { 'receive_time' : receivetime,\n",
    "                                                 'protocol'     : protocol,\n",
    "                                                 'flow'         : flow,\n",
    "                                                 'seq'          : seq,\n",
    "                                                 'src'          : src,\n",
    "                                                 'dst'          : dst,\n",
    "                                                 'sent_time'    : senttime,\n",
    "                                                 'size_in_bytes': sizeinbytes}\n",
    "                                        )\n",
    "        \n",
    "    \n",
    "    return mgen_logs"
   ]
  },
  {
   "cell_type": "code",
   "execution_count": 6,
   "metadata": {
    "collapsed": false
   },
   "outputs": [],
   "source": [
    "def calculatethroughput(log, start, end, increment, window):\n",
    "    '''calculate moving average of bits received per second\n",
    "    log = a pandas dataframe representing an mgen log, one of the values output from getmgen\n",
    "    start = start time (datetime object)\n",
    "    end = end time (datetime object)\n",
    "    increment = number of seconds between samples (float)\n",
    "    window = number of seconds over which to average the throughput - window=120 gets the throughput averaged over the last 2 min\n",
    "    returns a modified pandas dataframe with a column for the incoming bitrate calculated'''\n",
    "    \n",
    "    # construct the time axis\n",
    "    t = start\n",
    "    time = []\n",
    "    \n",
    "    while t <= end:\n",
    "        time.append(t)\n",
    "        t += datetime.timedelta(seconds = increment)\n",
    "    \n",
    "    # now calculate throughput at each point in time\n",
    "    \n",
    "    receive_bitrate_bps = []\n",
    "    timewindow = datetime.timedelta(seconds = window)\n",
    "\n",
    "    for windowend in time:\n",
    "\n",
    "        windowstart = windowend - timewindow\n",
    "        \n",
    "        if windowstart < min(log['receive_time']):\n",
    "            receive_bitrate_bps += [None]\n",
    "            \n",
    "        elif windowend > max(log['receive_time']):\n",
    "            receive_bitrate_bps += [None]\n",
    "        \n",
    "        else:\n",
    "            afterstart = log[log['receive_time'] > windowstart]\n",
    "            inwindow = afterstart[afterstart['receive_time'] <= windowend]\n",
    "\n",
    "            bits_in_window = sum(inwindow['size_in_bytes'])*8. # bits received in the window\n",
    "\n",
    "            receive_bitrate_bps += [bits_in_window/window]\n",
    "\n",
    "        \n",
    "    return pd.DataFrame(data = {'time' : time,\n",
    "                                'receive_bitrate_bps' : receive_bitrate_bps\n",
    "                               })"
   ]
  },
  {
   "cell_type": "code",
   "execution_count": 7,
   "metadata": {
    "collapsed": false
   },
   "outputs": [
    {
     "name": "stdout",
     "output_type": "stream",
     "text": [
      "('throughput at end: ', 444637.86666666664)\n",
      "('maximum throughput: ', 519936.0)\n"
     ]
    },
    {
     "data": {
      "image/png": "[encoded data removed]",
      "text/plain": [
       "<matplotlib.figure.Figure at 0x8af3c88>"
      ]
     },
     "metadata": {},
     "output_type": "display_data"
    }
   ],
   "source": [
    "# example run:\n",
    "\n",
    "# MODIFY THESE TWO LINES TO CORRESPOND TO THE EXPERIMENT FILE YOU WANT TO REDUCE\n",
    "collectdir = r'170424/deployed/n10/n10_all_calibration_60_1704241304/' # directory of the experiment files\n",
    "date = datetime.datetime(2017, 4, 24)                                  # date of the experiment\n",
    "\n",
    "nodedirs = getnodes(collectdir)\n",
    "mgenlogs = getmgen(nodedirs, date)\n",
    "\n",
    "# combine all mgen logs into one dataframe\n",
    "mgenlogsall = pd.concat([mgenlogs[i] for i in mgenlogs.keys() if not isinstance(mgenlogs[i], str)])\n",
    "mgenlogsall = mgenlogsall.sort_values('receive_time').reset_index(drop = True)\n",
    "\n",
    "# calculate total throughput received at any node, at each second, in the last [window] seconds\n",
    "window = 60\n",
    "throughput = calculatethroughput(mgenlogsall, min(mgenlogsall['receive_time']), max(mgenlogsall['receive_time']), 1, window)\n",
    "\n",
    "# plot throughput as function of time\n",
    "throughput.set_index('time').plot()\n",
    "plt.savefig(os.path.join(collectdir, 'throughput.png'), bbox_inches='tight')\n",
    "\n",
    "# write to file - for some reason this block of code only works when you run it twice\n",
    "writer = pd.ExcelWriter(os.path.join(collectdir, 'summary.xlsx'))\n",
    "mgenlogsall.to_excel(writer, \"MGENlogs\")\n",
    "throughput.to_excel(writer, \"throughput-over-time\")\n",
    "\n",
    "writer = pd.ExcelWriter(os.path.join(collectdir, 'summary.xlsx'))\n",
    "mgenlogsall.to_excel(writer, \"MGENlogs\")\n",
    "throughput.to_excel(writer, \"throughput-over-time\")\n",
    "\n",
    "throughputlist = [i for i in throughput['receive_bitrate_bps'] if not pd.isnull(i)]\n",
    "print('throughput at end: ', throughputlist[-1])\n",
    "print('maximum throughput: ', max(throughputlist))"
   ]
  },
  {
   "cell_type": "code",
   "execution_count": null,
   "metadata": {
    "collapsed": false
   },
   "outputs": [],
   "source": []
  },
  {
   "cell_type": "code",
   "execution_count": null,
   "metadata": {
    "collapsed": false
   },
   "outputs": [],
   "source": []
  },
  {
   "cell_type": "code",
   "execution_count": null,
   "metadata": {
    "collapsed": false
   },
   "outputs": [],
   "source": []
  },
  {
   "cell_type": "code",
   "execution_count": null,
   "metadata": {
    "collapsed": false
   },
   "outputs": [],
   "source": []
  },
  {
   "cell_type": "code",
   "execution_count": null,
   "metadata": {
    "collapsed": false
   },
   "outputs": [],
   "source": []
  },
  {
   "cell_type": "code",
   "execution_count": null,
   "metadata": {
    "collapsed": false
   },
   "outputs": [],
   "source": []
  },
  {
   "cell_type": "code",
   "execution_count": null,
   "metadata": {
    "collapsed": false
   },
   "outputs": [],
   "source": []
  },
  {
   "cell_type": "code",
   "execution_count": null,
   "metadata": {
    "collapsed": false
   },
   "outputs": [],
   "source": []
  },
  {
   "cell_type": "code",
   "execution_count": null,
   "metadata": {
    "collapsed": false
   },
   "outputs": [],
   "source": []
  },
  {
   "cell_type": "code",
   "execution_count": null,
   "metadata": {
    "collapsed": false
   },
   "outputs": [],
   "source": []
  },
  {
   "cell_type": "code",
   "execution_count": null,
   "metadata": {
    "collapsed": false
   },
   "outputs": [],
   "source": []
  },
  {
   "cell_type": "code",
   "execution_count": null,
   "metadata": {
    "collapsed": false
   },
   "outputs": [],
   "source": []
  },
  {
   "cell_type": "code",
   "execution_count": null,
   "metadata": {
    "collapsed": false
   },
   "outputs": [],
   "source": []
  },
  {
   "cell_type": "code",
   "execution_count": null,
   "metadata": {
    "collapsed": false
   },
   "outputs": [],
   "source": []
  },
  {
   "cell_type": "code",
   "execution_count": null,
   "metadata": {
    "collapsed": false
   },
   "outputs": [],
   "source": []
  },
  {
   "cell_type": "code",
   "execution_count": null,
   "metadata": {
    "collapsed": false
   },
   "outputs": [],
   "source": []
  },
  {
   "cell_type": "code",
   "execution_count": null,
   "metadata": {
    "collapsed": false
   },
   "outputs": [],
   "source": []
  },
  {
   "cell_type": "code",
   "execution_count": null,
   "metadata": {
    "collapsed": false
   },
   "outputs": [],
   "source": []
  },
  {
   "cell_type": "code",
   "execution_count": null,
   "metadata": {
    "collapsed": false
   },
   "outputs": [],
   "source": []
  },
  {
   "cell_type": "code",
   "execution_count": null,
   "metadata": {
    "collapsed": false
   },
   "outputs": [],
   "source": []
  },
  {
   "cell_type": "code",
   "execution_count": null,
   "metadata": {
    "collapsed": false
   },
   "outputs": [],
   "source": []
  },
  {
   "cell_type": "code",
   "execution_count": null,
   "metadata": {
    "collapsed": false
   },
   "outputs": [],
   "source": []
  },
  {
   "cell_type": "code",
   "execution_count": null,
   "metadata": {
    "collapsed": true
   },
   "outputs": [],
   "source": []
  }
 ],
 "metadata": {
  "kernelspec": {
   "display_name": "Python 2",
   "language": "python",
   "name": "python2"
  },
  "language_info": {
   "codemirror_mode": {
    "name": "ipython",
    "version": 2
   },
   "file_extension": ".py",
   "mimetype": "text/x-python",
   "name": "python",
   "nbconvert_exporter": "python",
   "pygments_lexer": "ipython2",
   "version": "2.7.11"
  }
 },
 "nbformat": 4,
 "nbformat_minor": 0
}
